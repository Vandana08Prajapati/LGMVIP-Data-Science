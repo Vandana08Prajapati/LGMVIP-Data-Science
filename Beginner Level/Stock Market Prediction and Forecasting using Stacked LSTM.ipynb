{
 "cells": [
  {
   "cell_type": "markdown",
   "id": "4efdf810",
   "metadata": {},
   "source": [
    "# Author - Vandana Prajapati"
   ]
  },
  {
   "cell_type": "markdown",
   "id": "b5968555",
   "metadata": {},
   "source": [
    "# LGMVIP - Data Science"
   ]
  },
  {
   "cell_type": "markdown",
   "id": "57d216ba",
   "metadata": {},
   "source": [
    "## Stock Market Prediction and Forecasting using stacked LSTM"
   ]
  },
  {
   "cell_type": "code",
   "execution_count": 13,
   "id": "7ba42697",
   "metadata": {},
   "outputs": [],
   "source": [
    "import pandas as pd\n",
    "import numpy as np\n",
    "import matplotlib.pyplot as plt\n",
    "import seaborn as sns\n",
    "import warnings \n",
    "warnings.filterwarnings('ignore')\n",
    "\n",
    "from sklearn.preprocessing import MinMaxScaler\n",
    "from tensorflow.keras.models import Sequential\n",
    "from tensorflow.keras.layers import Dense\n",
    "from tensorflow.keras.layers import LSTM"
   ]
  },
  {
   "cell_type": "code",
   "execution_count": 14,
   "id": "ac278433",
   "metadata": {},
   "outputs": [
    {
     "data": {
      "text/html": [
       "<div>\n",
       "<style scoped>\n",
       "    .dataframe tbody tr th:only-of-type {\n",
       "        vertical-align: middle;\n",
       "    }\n",
       "\n",
       "    .dataframe tbody tr th {\n",
       "        vertical-align: top;\n",
       "    }\n",
       "\n",
       "    .dataframe thead th {\n",
       "        text-align: right;\n",
       "    }\n",
       "</style>\n",
       "<table border=\"1\" class=\"dataframe\">\n",
       "  <thead>\n",
       "    <tr style=\"text-align: right;\">\n",
       "      <th></th>\n",
       "      <th>Date</th>\n",
       "      <th>Open</th>\n",
       "      <th>High</th>\n",
       "      <th>Low</th>\n",
       "      <th>Last</th>\n",
       "      <th>Close</th>\n",
       "      <th>Total Trade Quantity</th>\n",
       "      <th>Turnover (Lacs)</th>\n",
       "    </tr>\n",
       "  </thead>\n",
       "  <tbody>\n",
       "    <tr>\n",
       "      <th>0</th>\n",
       "      <td>2018-09-28</td>\n",
       "      <td>234.05</td>\n",
       "      <td>235.95</td>\n",
       "      <td>230.20</td>\n",
       "      <td>233.50</td>\n",
       "      <td>233.75</td>\n",
       "      <td>3069914</td>\n",
       "      <td>7162.35</td>\n",
       "    </tr>\n",
       "    <tr>\n",
       "      <th>1</th>\n",
       "      <td>2018-09-27</td>\n",
       "      <td>234.55</td>\n",
       "      <td>236.80</td>\n",
       "      <td>231.10</td>\n",
       "      <td>233.80</td>\n",
       "      <td>233.25</td>\n",
       "      <td>5082859</td>\n",
       "      <td>11859.95</td>\n",
       "    </tr>\n",
       "    <tr>\n",
       "      <th>2</th>\n",
       "      <td>2018-09-26</td>\n",
       "      <td>240.00</td>\n",
       "      <td>240.00</td>\n",
       "      <td>232.50</td>\n",
       "      <td>235.00</td>\n",
       "      <td>234.25</td>\n",
       "      <td>2240909</td>\n",
       "      <td>5248.60</td>\n",
       "    </tr>\n",
       "    <tr>\n",
       "      <th>3</th>\n",
       "      <td>2018-09-25</td>\n",
       "      <td>233.30</td>\n",
       "      <td>236.75</td>\n",
       "      <td>232.00</td>\n",
       "      <td>236.25</td>\n",
       "      <td>236.10</td>\n",
       "      <td>2349368</td>\n",
       "      <td>5503.90</td>\n",
       "    </tr>\n",
       "    <tr>\n",
       "      <th>4</th>\n",
       "      <td>2018-09-24</td>\n",
       "      <td>233.55</td>\n",
       "      <td>239.20</td>\n",
       "      <td>230.75</td>\n",
       "      <td>234.00</td>\n",
       "      <td>233.30</td>\n",
       "      <td>3423509</td>\n",
       "      <td>7999.55</td>\n",
       "    </tr>\n",
       "  </tbody>\n",
       "</table>\n",
       "</div>"
      ],
      "text/plain": [
       "         Date    Open    High     Low    Last   Close  Total Trade Quantity  \\\n",
       "0  2018-09-28  234.05  235.95  230.20  233.50  233.75               3069914   \n",
       "1  2018-09-27  234.55  236.80  231.10  233.80  233.25               5082859   \n",
       "2  2018-09-26  240.00  240.00  232.50  235.00  234.25               2240909   \n",
       "3  2018-09-25  233.30  236.75  232.00  236.25  236.10               2349368   \n",
       "4  2018-09-24  233.55  239.20  230.75  234.00  233.30               3423509   \n",
       "\n",
       "   Turnover (Lacs)  \n",
       "0          7162.35  \n",
       "1         11859.95  \n",
       "2          5248.60  \n",
       "3          5503.90  \n",
       "4          7999.55  "
      ]
     },
     "execution_count": 14,
     "metadata": {},
     "output_type": "execute_result"
    }
   ],
   "source": [
    "data = pd.read_csv('https://raw.githubusercontent.com/mwitiderrick/stockprice/master/NSE-TATAGLOBAL.csv')\n",
    "data.head()"
   ]
  },
  {
   "cell_type": "code",
   "execution_count": 15,
   "id": "fa8f3a1e",
   "metadata": {},
   "outputs": [
    {
     "name": "stdout",
     "output_type": "stream",
     "text": [
      "<class 'pandas.core.frame.DataFrame'>\n",
      "RangeIndex: 2035 entries, 0 to 2034\n",
      "Data columns (total 8 columns):\n",
      " #   Column                Non-Null Count  Dtype  \n",
      "---  ------                --------------  -----  \n",
      " 0   Date                  2035 non-null   object \n",
      " 1   Open                  2035 non-null   float64\n",
      " 2   High                  2035 non-null   float64\n",
      " 3   Low                   2035 non-null   float64\n",
      " 4   Last                  2035 non-null   float64\n",
      " 5   Close                 2035 non-null   float64\n",
      " 6   Total Trade Quantity  2035 non-null   int64  \n",
      " 7   Turnover (Lacs)       2035 non-null   float64\n",
      "dtypes: float64(6), int64(1), object(1)\n",
      "memory usage: 127.3+ KB\n"
     ]
    }
   ],
   "source": [
    "data.info()"
   ]
  },
  {
   "cell_type": "code",
   "execution_count": 16,
   "id": "22b2208d",
   "metadata": {},
   "outputs": [
    {
     "data": {
      "text/html": [
       "<div>\n",
       "<style scoped>\n",
       "    .dataframe tbody tr th:only-of-type {\n",
       "        vertical-align: middle;\n",
       "    }\n",
       "\n",
       "    .dataframe tbody tr th {\n",
       "        vertical-align: top;\n",
       "    }\n",
       "\n",
       "    .dataframe thead th {\n",
       "        text-align: right;\n",
       "    }\n",
       "</style>\n",
       "<table border=\"1\" class=\"dataframe\">\n",
       "  <thead>\n",
       "    <tr style=\"text-align: right;\">\n",
       "      <th></th>\n",
       "      <th>Open</th>\n",
       "      <th>High</th>\n",
       "      <th>Low</th>\n",
       "      <th>Last</th>\n",
       "      <th>Close</th>\n",
       "      <th>Total Trade Quantity</th>\n",
       "      <th>Turnover (Lacs)</th>\n",
       "    </tr>\n",
       "  </thead>\n",
       "  <tbody>\n",
       "    <tr>\n",
       "      <th>count</th>\n",
       "      <td>2035.000000</td>\n",
       "      <td>2035.000000</td>\n",
       "      <td>2035.000000</td>\n",
       "      <td>2035.000000</td>\n",
       "      <td>2035.00000</td>\n",
       "      <td>2.035000e+03</td>\n",
       "      <td>2035.000000</td>\n",
       "    </tr>\n",
       "    <tr>\n",
       "      <th>mean</th>\n",
       "      <td>149.713735</td>\n",
       "      <td>151.992826</td>\n",
       "      <td>147.293931</td>\n",
       "      <td>149.474251</td>\n",
       "      <td>149.45027</td>\n",
       "      <td>2.335681e+06</td>\n",
       "      <td>3899.980565</td>\n",
       "    </tr>\n",
       "    <tr>\n",
       "      <th>std</th>\n",
       "      <td>48.664509</td>\n",
       "      <td>49.413109</td>\n",
       "      <td>47.931958</td>\n",
       "      <td>48.732570</td>\n",
       "      <td>48.71204</td>\n",
       "      <td>2.091778e+06</td>\n",
       "      <td>4570.767877</td>\n",
       "    </tr>\n",
       "    <tr>\n",
       "      <th>min</th>\n",
       "      <td>81.100000</td>\n",
       "      <td>82.800000</td>\n",
       "      <td>80.000000</td>\n",
       "      <td>81.000000</td>\n",
       "      <td>80.95000</td>\n",
       "      <td>3.961000e+04</td>\n",
       "      <td>37.040000</td>\n",
       "    </tr>\n",
       "    <tr>\n",
       "      <th>25%</th>\n",
       "      <td>120.025000</td>\n",
       "      <td>122.100000</td>\n",
       "      <td>118.300000</td>\n",
       "      <td>120.075000</td>\n",
       "      <td>120.05000</td>\n",
       "      <td>1.146444e+06</td>\n",
       "      <td>1427.460000</td>\n",
       "    </tr>\n",
       "    <tr>\n",
       "      <th>50%</th>\n",
       "      <td>141.500000</td>\n",
       "      <td>143.400000</td>\n",
       "      <td>139.600000</td>\n",
       "      <td>141.100000</td>\n",
       "      <td>141.25000</td>\n",
       "      <td>1.783456e+06</td>\n",
       "      <td>2512.030000</td>\n",
       "    </tr>\n",
       "    <tr>\n",
       "      <th>75%</th>\n",
       "      <td>157.175000</td>\n",
       "      <td>159.400000</td>\n",
       "      <td>155.150000</td>\n",
       "      <td>156.925000</td>\n",
       "      <td>156.90000</td>\n",
       "      <td>2.813594e+06</td>\n",
       "      <td>4539.015000</td>\n",
       "    </tr>\n",
       "    <tr>\n",
       "      <th>max</th>\n",
       "      <td>327.700000</td>\n",
       "      <td>328.750000</td>\n",
       "      <td>321.650000</td>\n",
       "      <td>325.950000</td>\n",
       "      <td>325.75000</td>\n",
       "      <td>2.919102e+07</td>\n",
       "      <td>55755.080000</td>\n",
       "    </tr>\n",
       "  </tbody>\n",
       "</table>\n",
       "</div>"
      ],
      "text/plain": [
       "              Open         High          Low         Last       Close  \\\n",
       "count  2035.000000  2035.000000  2035.000000  2035.000000  2035.00000   \n",
       "mean    149.713735   151.992826   147.293931   149.474251   149.45027   \n",
       "std      48.664509    49.413109    47.931958    48.732570    48.71204   \n",
       "min      81.100000    82.800000    80.000000    81.000000    80.95000   \n",
       "25%     120.025000   122.100000   118.300000   120.075000   120.05000   \n",
       "50%     141.500000   143.400000   139.600000   141.100000   141.25000   \n",
       "75%     157.175000   159.400000   155.150000   156.925000   156.90000   \n",
       "max     327.700000   328.750000   321.650000   325.950000   325.75000   \n",
       "\n",
       "       Total Trade Quantity  Turnover (Lacs)  \n",
       "count          2.035000e+03      2035.000000  \n",
       "mean           2.335681e+06      3899.980565  \n",
       "std            2.091778e+06      4570.767877  \n",
       "min            3.961000e+04        37.040000  \n",
       "25%            1.146444e+06      1427.460000  \n",
       "50%            1.783456e+06      2512.030000  \n",
       "75%            2.813594e+06      4539.015000  \n",
       "max            2.919102e+07     55755.080000  "
      ]
     },
     "execution_count": 16,
     "metadata": {},
     "output_type": "execute_result"
    }
   ],
   "source": [
    "data.describe()"
   ]
  },
  {
   "cell_type": "code",
   "execution_count": 17,
   "id": "f72e79f5",
   "metadata": {},
   "outputs": [
    {
     "data": {
      "text/plain": [
       "Date                    datetime64[ns]\n",
       "Open                           float64\n",
       "High                           float64\n",
       "Low                            float64\n",
       "Last                           float64\n",
       "Close                          float64\n",
       "Total Trade Quantity             int64\n",
       "Turnover (Lacs)                float64\n",
       "dtype: object"
      ]
     },
     "execution_count": 17,
     "metadata": {},
     "output_type": "execute_result"
    }
   ],
   "source": [
    "data['Date'] = pd.to_datetime(data['Date'])\n",
    "data.dtypes"
   ]
  },
  {
   "cell_type": "code",
   "execution_count": 18,
   "id": "12b21b77",
   "metadata": {},
   "outputs": [
    {
     "data": {
      "text/html": [
       "<div>\n",
       "<style scoped>\n",
       "    .dataframe tbody tr th:only-of-type {\n",
       "        vertical-align: middle;\n",
       "    }\n",
       "\n",
       "    .dataframe tbody tr th {\n",
       "        vertical-align: top;\n",
       "    }\n",
       "\n",
       "    .dataframe thead th {\n",
       "        text-align: right;\n",
       "    }\n",
       "</style>\n",
       "<table border=\"1\" class=\"dataframe\">\n",
       "  <thead>\n",
       "    <tr style=\"text-align: right;\">\n",
       "      <th></th>\n",
       "      <th>Date</th>\n",
       "      <th>Open</th>\n",
       "      <th>High</th>\n",
       "      <th>Low</th>\n",
       "      <th>Last</th>\n",
       "      <th>Close</th>\n",
       "      <th>Total Trade Quantity</th>\n",
       "      <th>Turnover (Lacs)</th>\n",
       "    </tr>\n",
       "  </thead>\n",
       "  <tbody>\n",
       "    <tr>\n",
       "      <th>2034</th>\n",
       "      <td>2010-07-21</td>\n",
       "      <td>122.1</td>\n",
       "      <td>123.00</td>\n",
       "      <td>121.05</td>\n",
       "      <td>121.10</td>\n",
       "      <td>121.55</td>\n",
       "      <td>658666</td>\n",
       "      <td>803.56</td>\n",
       "    </tr>\n",
       "    <tr>\n",
       "      <th>2033</th>\n",
       "      <td>2010-07-22</td>\n",
       "      <td>120.3</td>\n",
       "      <td>122.00</td>\n",
       "      <td>120.25</td>\n",
       "      <td>120.75</td>\n",
       "      <td>120.90</td>\n",
       "      <td>293312</td>\n",
       "      <td>355.17</td>\n",
       "    </tr>\n",
       "    <tr>\n",
       "      <th>2032</th>\n",
       "      <td>2010-07-23</td>\n",
       "      <td>121.8</td>\n",
       "      <td>121.95</td>\n",
       "      <td>120.25</td>\n",
       "      <td>120.35</td>\n",
       "      <td>120.65</td>\n",
       "      <td>281312</td>\n",
       "      <td>340.31</td>\n",
       "    </tr>\n",
       "    <tr>\n",
       "      <th>2031</th>\n",
       "      <td>2010-07-26</td>\n",
       "      <td>120.1</td>\n",
       "      <td>121.00</td>\n",
       "      <td>117.10</td>\n",
       "      <td>117.10</td>\n",
       "      <td>117.60</td>\n",
       "      <td>658440</td>\n",
       "      <td>780.01</td>\n",
       "    </tr>\n",
       "    <tr>\n",
       "      <th>2030</th>\n",
       "      <td>2010-07-27</td>\n",
       "      <td>117.6</td>\n",
       "      <td>119.50</td>\n",
       "      <td>112.00</td>\n",
       "      <td>118.80</td>\n",
       "      <td>118.65</td>\n",
       "      <td>586100</td>\n",
       "      <td>694.98</td>\n",
       "    </tr>\n",
       "  </tbody>\n",
       "</table>\n",
       "</div>"
      ],
      "text/plain": [
       "           Date   Open    High     Low    Last   Close  Total Trade Quantity  \\\n",
       "2034 2010-07-21  122.1  123.00  121.05  121.10  121.55                658666   \n",
       "2033 2010-07-22  120.3  122.00  120.25  120.75  120.90                293312   \n",
       "2032 2010-07-23  121.8  121.95  120.25  120.35  120.65                281312   \n",
       "2031 2010-07-26  120.1  121.00  117.10  117.10  117.60                658440   \n",
       "2030 2010-07-27  117.6  119.50  112.00  118.80  118.65                586100   \n",
       "\n",
       "      Turnover (Lacs)  \n",
       "2034           803.56  \n",
       "2033           355.17  \n",
       "2032           340.31  \n",
       "2031           780.01  \n",
       "2030           694.98  "
      ]
     },
     "execution_count": 18,
     "metadata": {},
     "output_type": "execute_result"
    }
   ],
   "source": [
    "data = data.sort_values('Date')\n",
    "data.head()"
   ]
  },
  {
   "cell_type": "code",
   "execution_count": 25,
   "id": "50c9aaea",
   "metadata": {},
   "outputs": [
    {
     "data": {
      "text/plain": [
       "Text(0, 0.5, 'Close')"
      ]
     },
     "execution_count": 25,
     "metadata": {},
     "output_type": "execute_result"
    },
    {
     "data": {
      "image/png": "[encoded data removed]",
      "text/plain": [
       "<Figure size 648x432 with 1 Axes>"
      ]
     },
     "metadata": {
      "needs_background": "light"
     },
     "output_type": "display_data"
    }
   ],
   "source": [
    "plt.figure(figsize = (9,6))\n",
    "plt.title('Tata Stocks Closing Price')\n",
    "plt.plot(data['Close'],'g')\n",
    "plt.xlabel('Date',fontsize=15)\n",
    "plt.ylabel('Close',fontsize=15)"
   ]
  },
  {
   "cell_type": "code",
   "execution_count": 29,
   "id": "2a7ec025",
   "metadata": {},
   "outputs": [
    {
     "data": {
      "text/plain": [
       "<AxesSubplot:>"
      ]
     },
     "execution_count": 29,
     "metadata": {},
     "output_type": "execute_result"
    },
    {
     "data": {
      "image/png": "[encoded data removed]",
      "text/plain": [
       "<Figure size 720x504 with 2 Axes>"
      ]
     },
     "metadata": {
      "needs_background": "light"
     },
     "output_type": "display_data"
    }
   ],
   "source": [
    "dcorr = data.corr()\n",
    "top_corr_features = dcorr.index\n",
    "plt.figure(figsize=(10,7))\n",
    "#plot heatmap\n",
    "sns.heatmap(data[top_corr_features].corr(), annot=True, cmap=\"YlGnBu\")"
   ]
  },
  {
   "cell_type": "markdown",
   "id": "561134b0",
   "metadata": {},
   "source": [
    "### MinMaxScaler\n",
    "##### From the original dataset, we can tell that each of our target value are in close proximity to one another. So, we will use MinMaxScaler to scale down all the target variables in the range of (0, 1) for the ease of computation."
   ]
  },
  {
   "cell_type": "code",
   "execution_count": 31,
   "id": "a6a18eed",
   "metadata": {},
   "outputs": [
    {
     "data": {
      "text/plain": [
       "array([[0.16584967],\n",
       "       [0.16319444],\n",
       "       [0.1621732 ],\n",
       "       ...,\n",
       "       [0.62622549],\n",
       "       [0.62214052],\n",
       "       [0.62418301]])"
      ]
     },
     "execution_count": 31,
     "metadata": {},
     "output_type": "execute_result"
    }
   ],
   "source": [
    "data_close = data.reset_index()['Close']\n",
    "data_close.head()\n",
    "scaler = MinMaxScaler(feature_range = (0, 1))\n",
    "data_close = scaler.fit_transform(np.array(data_close).reshape(-1, 1))"
   ]
  },
  {
   "cell_type": "code",
   "execution_count": null,
   "id": "f685a8bd",
   "metadata": {},
   "outputs": [],
   "source": [
    "#### Splitting train, Test data"
   ]
  },
  {
   "cell_type": "code",
   "execution_count": 32,
   "id": "8d22bf67",
   "metadata": {},
   "outputs": [],
   "source": [
    "train_size = int(len(data_close)*0.70)\n",
    "test_size = len(data_close) - train_size\n",
    "train, test = data_close[0 : train_size, :], data_close[train_size : len(data_close), :1]"
   ]
  },
  {
   "cell_type": "code",
   "execution_count": 33,
   "id": "53485d4d",
   "metadata": {},
   "outputs": [],
   "source": [
    "def create_matrix(ds, time_step=1):\n",
    "    dataX, dataY = [], []\n",
    "    for i in range(len(ds)-time_step-1):\n",
    "        a = ds[i:(i+time_step),0]\n",
    "        dataX.append(a)\n",
    "        dataY.append(ds[i+time_step,0])\n",
    "    return np.array(dataX), np.array(dataY)"
   ]
  },
  {
   "cell_type": "code",
   "execution_count": 37,
   "id": "9e5e8861",
   "metadata": {},
   "outputs": [
    {
     "name": "stdout",
     "output_type": "stream",
     "text": [
      "(1323, 100) (1323,)\n",
      "(510, 100) (510,)\n"
     ]
    }
   ],
   "source": [
    "step=100 # time step\n",
    "X_train, y_train = create_matrix(train, step)\n",
    "X_test, y_test = create_matrix(test, step)\n",
    "print(X_train.shape, y_train.shape)\n",
    "print(X_test.shape, y_test.shape)"
   ]
  },
  {
   "cell_type": "code",
   "execution_count": 38,
   "id": "7a5393ce",
   "metadata": {},
   "outputs": [],
   "source": [
    "X_train = X_train.reshape(X_train.shape[0], X_train.shape[1], 1)\n",
    "X_test = X_test.reshape(X_test.shape[0], X_test.shape[1], 1)"
   ]
  },
  {
   "cell_type": "markdown",
   "id": "fe57b14c",
   "metadata": {},
   "source": [
    "### LSTM Model"
   ]
  },
  {
   "cell_type": "code",
   "execution_count": 39,
   "id": "3754a592",
   "metadata": {},
   "outputs": [],
   "source": [
    "model = Sequential()\n",
    "model.add(LSTM(50, return_sequences=True,input_shape=(100,1)))\n",
    "model.add(LSTM(50,return_sequences=True))\n",
    "model.add(LSTM(50))\n",
    "model.add(Dense(1))\n",
    "model.compile(loss='mean_squared_error',optimizer='adam')"
   ]
  },
  {
   "cell_type": "code",
   "execution_count": 40,
   "id": "b11f082c",
   "metadata": {},
   "outputs": [
    {
     "name": "stdout",
     "output_type": "stream",
     "text": [
      "Model: \"sequential\"\n",
      "_________________________________________________________________\n",
      "Layer (type)                 Output Shape              Param #   \n",
      "=================================================================\n",
      "lstm (LSTM)                  (None, 100, 50)           10400     \n",
      "_________________________________________________________________\n",
      "lstm_1 (LSTM)                (None, 100, 50)           20200     \n",
      "_________________________________________________________________\n",
      "lstm_2 (LSTM)                (None, 50)                20200     \n",
      "_________________________________________________________________\n",
      "dense (Dense)                (None, 1)                 51        \n",
      "=================================================================\n",
      "Total params: 50,851\n",
      "Trainable params: 50,851\n",
      "Non-trainable params: 0\n",
      "_________________________________________________________________\n"
     ]
    }
   ],
   "source": [
    "model.summary()"
   ]
  },
  {
   "cell_type": "code",
   "execution_count": 41,
   "id": "91490b3e",
   "metadata": {},
   "outputs": [
    {
     "name": "stdout",
     "output_type": "stream",
     "text": [
      "Epoch 1/77\n",
      "19/19 [==============================] - 25s 480ms/step - loss: 0.0146 - val_loss: 0.0017\n",
      "Epoch 2/77\n",
      "19/19 [==============================] - 5s 253ms/step - loss: 0.0021 - val_loss: 0.0012\n",
      "Epoch 3/77\n",
      "19/19 [==============================] - 6s 313ms/step - loss: 9.6835e-04 - val_loss: 0.0012\n",
      "Epoch 4/77\n",
      "19/19 [==============================] - 6s 313ms/step - loss: 8.7256e-04 - val_loss: 0.0011\n",
      "Epoch 5/77\n",
      "19/19 [==============================] - 5s 253ms/step - loss: 8.2761e-04 - val_loss: 0.0012\n",
      "Epoch 6/77\n",
      "19/19 [==============================] - 6s 312ms/step - loss: 7.9841e-04 - val_loss: 0.0010\n",
      "Epoch 7/77\n",
      "19/19 [==============================] - 6s 317ms/step - loss: 7.6693e-04 - val_loss: 0.0011\n",
      "Epoch 8/77\n",
      "19/19 [==============================] - 5s 254ms/step - loss: 7.5788e-04 - val_loss: 0.0010\n",
      "Epoch 9/77\n",
      "19/19 [==============================] - 6s 316ms/step - loss: 7.4450e-04 - val_loss: 9.4646e-04\n",
      "Epoch 10/77\n",
      "19/19 [==============================] - 6s 317ms/step - loss: 7.3197e-04 - val_loss: 0.0011\n",
      "Epoch 11/77\n",
      "19/19 [==============================] - 5s 255ms/step - loss: 6.9175e-04 - val_loss: 8.6118e-04\n",
      "Epoch 12/77\n",
      "19/19 [==============================] - 6s 312ms/step - loss: 6.5539e-04 - val_loss: 8.0773e-04\n",
      "Epoch 13/77\n",
      "19/19 [==============================] - 6s 312ms/step - loss: 6.4683e-04 - val_loss: 8.1466e-04\n",
      "Epoch 14/77\n",
      "19/19 [==============================] - 5s 295ms/step - loss: 6.6268e-04 - val_loss: 9.2203e-04\n",
      "Epoch 15/77\n",
      "19/19 [==============================] - 6s 325ms/step - loss: 6.3410e-04 - val_loss: 8.0517e-04\n",
      "Epoch 16/77\n",
      "19/19 [==============================] - 5s 268ms/step - loss: 6.2185e-04 - val_loss: 6.7752e-04\n",
      "Epoch 17/77\n",
      "19/19 [==============================] - 6s 342ms/step - loss: 5.9213e-04 - val_loss: 6.6491e-04\n",
      "Epoch 18/77\n",
      "19/19 [==============================] - 6s 320ms/step - loss: 5.7907e-04 - val_loss: 6.5187e-04\n",
      "Epoch 19/77\n",
      "19/19 [==============================] - 5s 257ms/step - loss: 5.4984e-04 - val_loss: 6.1922e-04\n",
      "Epoch 20/77\n",
      "19/19 [==============================] - 6s 334ms/step - loss: 5.6086e-04 - val_loss: 5.9535e-04\n",
      "Epoch 21/77\n",
      "19/19 [==============================] - 6s 305ms/step - loss: 5.1904e-04 - val_loss: 5.7989e-04\n",
      "Epoch 22/77\n",
      "19/19 [==============================] - 5s 257ms/step - loss: 5.2342e-04 - val_loss: 5.6497e-04\n",
      "Epoch 23/77\n",
      "19/19 [==============================] - 6s 315ms/step - loss: 4.9526e-04 - val_loss: 5.9417e-04\n",
      "Epoch 24/77\n",
      "19/19 [==============================] - 6s 303ms/step - loss: 4.9815e-04 - val_loss: 5.4190e-04\n",
      "Epoch 25/77\n",
      "19/19 [==============================] - 5s 255ms/step - loss: 5.0368e-04 - val_loss: 6.6547e-04\n",
      "Epoch 26/77\n",
      "19/19 [==============================] - 6s 306ms/step - loss: 5.1189e-04 - val_loss: 4.9693e-04\n",
      "Epoch 27/77\n",
      "19/19 [==============================] - 6s 296ms/step - loss: 4.6555e-04 - val_loss: 4.8677e-04\n",
      "Epoch 28/77\n",
      "19/19 [==============================] - 5s 284ms/step - loss: 4.4778e-04 - val_loss: 4.6511e-04\n",
      "Epoch 29/77\n",
      "19/19 [==============================] - 6s 324ms/step - loss: 4.6516e-04 - val_loss: 5.1351e-04\n",
      "Epoch 30/77\n",
      "19/19 [==============================] - 5s 287ms/step - loss: 4.2655e-04 - val_loss: 4.1990e-04\n",
      "Epoch 31/77\n",
      "19/19 [==============================] - 6s 302ms/step - loss: 4.4603e-04 - val_loss: 4.1005e-04\n",
      "Epoch 32/77\n",
      "19/19 [==============================] - 6s 314ms/step - loss: 4.2204e-04 - val_loss: 4.4952e-04\n",
      "Epoch 33/77\n",
      "19/19 [==============================] - 5s 256ms/step - loss: 4.2133e-04 - val_loss: 4.0453e-04\n",
      "Epoch 34/77\n",
      "19/19 [==============================] - 6s 312ms/step - loss: 3.8467e-04 - val_loss: 4.0627e-04\n",
      "Epoch 35/77\n",
      "19/19 [==============================] - 5s 261ms/step - loss: 3.5893e-04 - val_loss: 3.6111e-04\n",
      "Epoch 36/77\n",
      "19/19 [==============================] - 5s 259ms/step - loss: 3.4994e-04 - val_loss: 3.3834e-04\n",
      "Epoch 37/77\n",
      "19/19 [==============================] - 6s 306ms/step - loss: 3.7256e-04 - val_loss: 3.7128e-04\n",
      "Epoch 38/77\n",
      "19/19 [==============================] - 6s 314ms/step - loss: 3.3794e-04 - val_loss: 3.3125e-04\n",
      "Epoch 39/77\n",
      "19/19 [==============================] - 5s 242ms/step - loss: 3.7759e-04 - val_loss: 5.1621e-04\n",
      "Epoch 40/77\n",
      "19/19 [==============================] - 6s 331ms/step - loss: 3.3219e-04 - val_loss: 2.8657e-04\n",
      "Epoch 41/77\n",
      "19/19 [==============================] - 6s 317ms/step - loss: 3.1111e-04 - val_loss: 2.9196e-04\n",
      "Epoch 42/77\n",
      "19/19 [==============================] - 5s 256ms/step - loss: 3.0033e-04 - val_loss: 2.9610e-04\n",
      "Epoch 43/77\n",
      "19/19 [==============================] - 6s 319ms/step - loss: 2.9006e-04 - val_loss: 2.4769e-04\n",
      "Epoch 44/77\n",
      "19/19 [==============================] - 6s 319ms/step - loss: 2.7917e-04 - val_loss: 2.5601e-04\n",
      "Epoch 45/77\n",
      "19/19 [==============================] - 5s 255ms/step - loss: 2.6781e-04 - val_loss: 2.4489e-04\n",
      "Epoch 46/77\n",
      "19/19 [==============================] - 6s 317ms/step - loss: 2.6822e-04 - val_loss: 2.3654e-04\n",
      "Epoch 47/77\n",
      "19/19 [==============================] - 6s 324ms/step - loss: 3.0236e-04 - val_loss: 3.6900e-04\n",
      "Epoch 48/77\n",
      "19/19 [==============================] - 5s 257ms/step - loss: 2.7364e-04 - val_loss: 2.2404e-04\n",
      "Epoch 49/77\n",
      "19/19 [==============================] - 6s 321ms/step - loss: 2.5581e-04 - val_loss: 2.0800e-04\n",
      "Epoch 50/77\n",
      "19/19 [==============================] - 6s 308ms/step - loss: 2.4263e-04 - val_loss: 2.1122e-04\n",
      "Epoch 51/77\n",
      "19/19 [==============================] - 5s 280ms/step - loss: 2.3042e-04 - val_loss: 1.9118e-04\n",
      "Epoch 52/77\n",
      "19/19 [==============================] - 6s 323ms/step - loss: 2.2831e-04 - val_loss: 2.4218e-04\n",
      "Epoch 53/77\n",
      "19/19 [==============================] - 5s 279ms/step - loss: 2.3269e-04 - val_loss: 2.4713e-04\n",
      "Epoch 54/77\n",
      "19/19 [==============================] - 6s 314ms/step - loss: 2.4592e-04 - val_loss: 1.8278e-04\n",
      "Epoch 55/77\n",
      "19/19 [==============================] - 6s 320ms/step - loss: 2.2485e-04 - val_loss: 1.8016e-04\n",
      "Epoch 56/77\n",
      "19/19 [==============================] - 5s 258ms/step - loss: 2.0820e-04 - val_loss: 1.9320e-04\n",
      "Epoch 57/77\n",
      "19/19 [==============================] - 6s 318ms/step - loss: 1.9456e-04 - val_loss: 1.7131e-04\n",
      "Epoch 58/77\n",
      "19/19 [==============================] - 6s 299ms/step - loss: 1.8859e-04 - val_loss: 1.8013e-04\n",
      "Epoch 59/77\n",
      "19/19 [==============================] - 5s 242ms/step - loss: 2.0163e-04 - val_loss: 2.0294e-04\n",
      "Epoch 60/77\n",
      "19/19 [==============================] - 6s 304ms/step - loss: 2.0117e-04 - val_loss: 1.5436e-04\n",
      "Epoch 61/77\n",
      "19/19 [==============================] - 6s 307ms/step - loss: 2.0201e-04 - val_loss: 1.5687e-04\n",
      "Epoch 62/77\n",
      "19/19 [==============================] - 5s 252ms/step - loss: 2.0028e-04 - val_loss: 1.8252e-04\n",
      "Epoch 63/77\n",
      "19/19 [==============================] - 6s 305ms/step - loss: 1.8510e-04 - val_loss: 1.4925e-04\n",
      "Epoch 64/77\n",
      "19/19 [==============================] - 6s 313ms/step - loss: 1.7716e-04 - val_loss: 1.4445e-04\n",
      "Epoch 65/77\n",
      "19/19 [==============================] - 5s 253ms/step - loss: 1.6371e-04 - val_loss: 1.4840e-04\n",
      "Epoch 66/77\n",
      "19/19 [==============================] - 6s 303ms/step - loss: 1.6753e-04 - val_loss: 1.3909e-04\n",
      "Epoch 67/77\n",
      "19/19 [==============================] - 6s 309ms/step - loss: 1.6723e-04 - val_loss: 1.3734e-04\n",
      "Epoch 68/77\n",
      "19/19 [==============================] - 5s 253ms/step - loss: 1.5712e-04 - val_loss: 1.7449e-04\n",
      "Epoch 69/77\n",
      "19/19 [==============================] - 6s 307ms/step - loss: 1.5781e-04 - val_loss: 1.3846e-04\n",
      "Epoch 70/77\n",
      "19/19 [==============================] - 6s 309ms/step - loss: 1.5520e-04 - val_loss: 1.2748e-04\n",
      "Epoch 71/77\n",
      "19/19 [==============================] - 5s 250ms/step - loss: 1.5116e-04 - val_loss: 1.7558e-04\n",
      "Epoch 72/77\n",
      "19/19 [==============================] - 6s 308ms/step - loss: 1.6921e-04 - val_loss: 1.6646e-04\n",
      "Epoch 73/77\n",
      "19/19 [==============================] - 6s 310ms/step - loss: 1.5894e-04 - val_loss: 1.2944e-04\n",
      "Epoch 74/77\n",
      "19/19 [==============================] - 5s 246ms/step - loss: 1.5407e-04 - val_loss: 1.2609e-04\n",
      "Epoch 75/77\n",
      "19/19 [==============================] - 6s 307ms/step - loss: 1.5331e-04 - val_loss: 1.2898e-04\n",
      "Epoch 76/77\n",
      "19/19 [==============================] - 6s 315ms/step - loss: 1.4979e-04 - val_loss: 1.2229e-04\n",
      "Epoch 77/77\n",
      "19/19 [==============================] - 5s 264ms/step - loss: 1.3873e-04 - val_loss: 1.2048e-04\n"
     ]
    }
   ],
   "source": [
    "history = model.fit(X_train, y_train, validation_split=0.1, epochs=77, batch_size=64, verbose=1, shuffle=True).history"
   ]
  },
  {
   "cell_type": "code",
   "execution_count": 43,
   "id": "4c957b4e",
   "metadata": {},
   "outputs": [],
   "source": [
    "train_predict = model.predict(X_train)\n",
    "test_predict = model.predict(X_test)"
   ]
  },
  {
   "cell_type": "code",
   "execution_count": 44,
   "id": "a681c8b1",
   "metadata": {},
   "outputs": [],
   "source": [
    "# Reversing the MinMax Scaler\n",
    "train_predict = scaler.inverse_transform(train_predict)\n",
    "test_predict = scaler.inverse_transform(test_predict)"
   ]
  },
  {
   "cell_type": "code",
   "execution_count": null,
   "id": "c8c56339",
   "metadata": {},
   "outputs": [],
   "source": [
    "math.sqrt(mean_squared_error(Y_train, train_predict))\n",
    "math.sqrt(mean_squared_error(ytest,test_predict))"
   ]
  },
  {
   "cell_type": "code",
   "execution_count": 45,
   "id": "7ba34396",
   "metadata": {},
   "outputs": [
    {
     "data": {
      "image/png": "[encoded data removed]",
      "text/plain": [
       "<Figure size 432x288 with 1 Axes>"
      ]
     },
     "metadata": {
      "needs_background": "light"
     },
     "output_type": "display_data"
    }
   ],
   "source": [
    "### Visualise the Predictions\n",
    "look_back = 100\n",
    "train_num_pyredict_plot = np.empty_like(data_close)\n",
    "train_num_pyredict_plot[:, :] = np.nan\n",
    "train_num_pyredict_plot[look_back : len(train_predict) + look_back, :] = train_predict\n",
    "test_predict_plot = np.empty_like(data_close)\n",
    "test_predict_plot[:, :] = np.nan\n",
    "test_predict_plot[len(train_predict) + (look_back * 2) + 1 : len(data_close) - 1, :] = test_predict\n",
    "plt.plot(scaler.inverse_transform(data_close))\n",
    "plt.plot(train_num_pyredict_plot)\n",
    "plt.plot(test_predict_plot)\n",
    "plt.show()"
   ]
  },
  {
   "cell_type": "code",
   "execution_count": 47,
   "id": "208d2c47",
   "metadata": {},
   "outputs": [],
   "source": [
    "### Future Prediction Model\n",
    "x_inum_pyut=test[307:].reshape(1, -1)\n",
    "x_inum_pyut.shape\n",
    "temp_inum_pyut = list(x_inum_pyut)\n",
    "temp_inum_pyut = temp_inum_pyut[0].tolist()\n",
    "temp_inum_pyut = list(x_inum_pyut)\n",
    "temp_inum_pyut = temp_inum_pyut[0].tolist()"
   ]
  },
  {
   "cell_type": "code",
   "execution_count": 48,
   "id": "6cad0107",
   "metadata": {},
   "outputs": [
    {
     "data": {
      "text/plain": [
       "[<matplotlib.lines.Line2D at 0x2dcc60b0f40>]"
      ]
     },
     "execution_count": 48,
     "metadata": {},
     "output_type": "execute_result"
    },
    {
     "data": {
      "image/png": "[encoded data removed]",
      "text/plain": [
       "<Figure size 432x288 with 1 Axes>"
      ]
     },
     "metadata": {
      "needs_background": "light"
     },
     "output_type": "display_data"
    }
   ],
   "source": [
    "day_new = np.arange(1, 101)\n",
    "day_pred = np.arange(101, 131)\n",
    "plt.plot(day_new, scaler.inverse_transform(data_close[1935 : ]))"
   ]
  },
  {
   "cell_type": "markdown",
   "id": "cd5e9ac6",
   "metadata": {},
   "source": [
    "## Thank You !!"
   ]
  },
  {
   "cell_type": "code",
   "execution_count": null,
   "id": "3376d328",
   "metadata": {},
   "outputs": [],
   "source": []
  }
 ],
 "metadata": {
  "kernelspec": {
   "display_name": "Python 3 (ipykernel)",
   "language": "python",
   "name": "python3"
  },
  "language_info": {
   "codemirror_mode": {
    "name": "ipython",
    "version": 3
   },
   "file_extension": ".py",
   "mimetype": "text/x-python",
   "name": "python",
   "nbconvert_exporter": "python",
   "pygments_lexer": "ipython3",
   "version": "3.9.7"
  }
 },
 "nbformat": 4,
 "nbformat_minor": 5
}
